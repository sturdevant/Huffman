{
 "metadata": {
  "name": "",
  "signature": "sha256:b9ceee846c31ae59f8c1a16a1032d0de2799c375ffba9d3905e34661b5bbb472"
 },
 "nbformat": 3,
 "nbformat_minor": 0,
 "worksheets": [
  {
   "cells": [
    {
     "cell_type": "code",
     "collapsed": false,
     "input": [
      "#!/usr/bin/env python\n",
      "import urllib2\n",
      "from bs4 import BeautifulSoup\n",
      "from optparse import OptionParser\n",
      "\n",
      "# Read cmdln args\n",
      "parser = OptionParser()\n",
      "parser.add_option(\"-i\", \"--in\", dest=\"artistName\", help=\"Name of artist\")\n",
      "parser.add_option(\"-o\", \"--out\", dest=\"outFileName\", help=\"Name of output file\")\n",
      "(options, args) = parser.parse_args()"
     ],
     "language": "python",
     "metadata": {},
     "outputs": [],
     "prompt_number": 220
    },
    {
     "cell_type": "code",
     "collapsed": false,
     "input": [
      "class song(object):\n",
      "    def __init__(self, url):\n",
      "        # Fetch lyrics from given url\n",
      "        print \"fetching lyrics from \" + url\n",
      "        page = urllib2.urlopen(url).read()\n",
      "        soup = BeautifulSoup(page)\n",
      "        result = soup.find(\"div\", {\"id\" : \"lyric_space\"})\n",
      "        text = result.getText()\n",
      "        \n",
      "        # Try-except ensures that the song has lyrics\n",
      "        try:\n",
      "            for i in range(len(text)):\n",
      "                # Detect end of lyrics\n",
      "                if (text[i] == \"-\") & (text[i+1] == \"-\") & (text[i+2] == \"-\"):\n",
      "                    bad_end = i\n",
      "                    break\n",
      "            self.lyrics = text[:i]\n",
      "            self.hasLyrics = True\n",
      "        except:\n",
      "            self.hasLyrics = False"
     ],
     "language": "python",
     "metadata": {},
     "outputs": [],
     "prompt_number": 221
    },
    {
     "cell_type": "code",
     "collapsed": false,
     "input": [
      "class artist(object):\n",
      "    def __init__(self, name):\n",
      "        # Get all songs from artist's page\n",
      "        page = urllib2.urlopen(\"http://www.lyrics.com/\" + name).read()\n",
      "        soup = BeautifulSoup(page)\n",
      "        songList = soup.find(\"div\", {\"id\" : \"songlist\"}).findAll(\"a\")\n",
      "        songs = []\n",
      "        for result in songList:\n",
      "            # Ignore the \"add song\" link\n",
      "            if result.text != \"+\":\n",
      "                songs.append(song(\"http://www.lyrics.com\"+result.get(\"href\")))\n",
      "        \n",
      "        # Combine all their lyrics into one string (of songs which have lyrics...)\n",
      "        allLyrics = \"\"\n",
      "        for s in songs:\n",
      "            if s.hasLyrics:\n",
      "                allLyrics += s.lyrics.lower()\n",
      "        \n",
      "        # Clean up string by stripping punctuation (maybe not so rubust since something like \",.\" wouldn't get fully stripped...)\n",
      "        self.words = []\n",
      "        for s in allLyrics.split():\n",
      "            self.words.append(s.strip(\".\").strip(\",\").strip(\"!\").strip(\"\\\"\").strip(\"?\").strip(\":\").strip(\";\").strip(\"(\").strip(\")\").strip(\"'\"))\n",
      "        \n",
      "    \n",
      "    # Write lyrics into a csv file\n",
      "    def writeFile(self, fileName):\n",
      "        fstr = \"\"\n",
      "        for s in self.words:\n",
      "            fstr += s + \",\"\n",
      "        fstr = fstr.rstrip(\",\")\n",
      "        f = open(fileName, 'wb')\n",
      "        f.write(fstr.encode('utf-8'))\n",
      "        f.close()"
     ],
     "language": "python",
     "metadata": {},
     "outputs": [],
     "prompt_number": 246
    },
    {
     "cell_type": "code",
     "collapsed": false,
     "input": [
      "artist(options.artistName).writeFile(options.outFileName)"
     ],
     "language": "python",
     "metadata": {},
     "outputs": []
    }
   ],
   "metadata": {}
  }
 ]
}