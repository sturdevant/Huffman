{
 "metadata": {
  "name": "",
  "signature": "sha256:7ea6178b89b530b8baeadf7d3a12c44fd66b026e617bc6364b3de1655e3e673a"
 },
 "nbformat": 3,
 "nbformat_minor": 0,
 "worksheets": [
  {
   "cells": [
    {
     "cell_type": "code",
     "collapsed": false,
     "input": [
      "#!/usr/bin/env python\n",
      "import heapq as hp\n",
      "from optparse import OptionParser\n",
      "\n",
      "# Read cmdln args\n",
      "parser = OptionParser()\n",
      "parser.add_option(\"-o\", \"--out\", dest=\"oFileName\", help=\"Name of output file\")\n",
      "parser.add_option(\"-d\", \"--dict\", dest=\"dFileName\", help=\"Name of dictionary file\")\n",
      "parser.add_option(\"-i\", \"--input\", dest=\"aFileName\", help=\"Name of input file\")\n",
      "\n",
      "(options, args) = parser.parse_args()"
     ],
     "language": "python",
     "metadata": {},
     "outputs": [],
     "prompt_number": 378
    },
    {
     "cell_type": "code",
     "collapsed": false,
     "input": [
      "class node(object):\n",
      "    def __init__(self, value, left=None, right=None):\n",
      "        self.value = value\n",
      "        self.left = left\n",
      "        self.right = right\n",
      "    \n",
      "    # Print out tree, not a nice format, but you can at least reconstruct it...\n",
      "    def printNode(self, level = 0):\n",
      "        if (self.left != None):\n",
      "            self.left.printNode(level + 1)\n",
      "        if (self.value != None):\n",
      "            print str(self.value) + \":  level: \" + str(level)\n",
      "        if (self.right != None):\n",
      "            self.right.printNode(level + 1)\n",
      "    \n",
      "    # Encode recursively, left branch prefixed w/ \"0\", right branch w/ \"1\"\n",
      "    def encode(self):\n",
      "        if (self.left == None):\n",
      "            if (self.right == None):\n",
      "                return {self.value : \"\"}\n",
      "            else:\n",
      "                d = self.right.encode()\n",
      "                for e in d:\n",
      "                    d[e] = \"1\" + d[e]\n",
      "                return d\n",
      "        else:\n",
      "            dl = self.left.encode()\n",
      "            dr = {}\n",
      "            if (self.right != None):\n",
      "                dr = self.right.encode()\n",
      "            for e in dl:\n",
      "                dl[e] = \"0\" + dl[e]\n",
      "            for e in dr:\n",
      "                dr[e] = \"1\" + dr[e]\n",
      "            # return left & right dictionaries\n",
      "            return dict(dl, **dr)\n",
      "            "
     ],
     "language": "python",
     "metadata": {},
     "outputs": [],
     "prompt_number": 379
    },
    {
     "cell_type": "code",
     "collapsed": false,
     "input": [
      "# File names from commandline args\n",
      "dFileName = options.dFileName\n",
      "aFileName = options.aFileName\n",
      "oFileName = options.oFileName"
     ],
     "language": "python",
     "metadata": {},
     "outputs": [],
     "prompt_number": 380
    },
    {
     "cell_type": "code",
     "collapsed": false,
     "input": [
      "# Open files\n",
      "dFile = open(dFileName, 'r')\n",
      "aFile = open(aFileName, 'r')\n",
      "oFile = open(oFileName, 'wb')"
     ],
     "language": "python",
     "metadata": {},
     "outputs": [],
     "prompt_number": 381
    },
    {
     "cell_type": "code",
     "collapsed": false,
     "input": [
      "# Initialize dictionary from file\n",
      "d = {}\n",
      "for s in dFile.read().split(','):\n",
      "    d[s] = 1\n",
      "\n",
      "# Fill entries from aFile, adding 1 to them everytime the word is run into\n",
      "for s in aFile.read().split(','):\n",
      "    d[s] += 1"
     ],
     "language": "python",
     "metadata": {},
     "outputs": [],
     "prompt_number": 382
    },
    {
     "cell_type": "code",
     "collapsed": false,
     "input": [
      "# Initialize heap w/ leafnodes\n",
      "h = []\n",
      "for e in d:\n",
      "    hp.heappush(h, (d[e], node(e)))"
     ],
     "language": "python",
     "metadata": {},
     "outputs": [],
     "prompt_number": 383
    },
    {
     "cell_type": "code",
     "collapsed": false,
     "input": [
      "# Build tree\n",
      "while (len(h)>1):\n",
      "    n, small = hp.heappop(h)\n",
      "    N, big = hp.heappop(h)\n",
      "    new = node(n+N, big, small)\n",
      "    hp.heappush(h, (n+N, new))"
     ],
     "language": "python",
     "metadata": {},
     "outputs": [],
     "prompt_number": 384
    },
    {
     "cell_type": "code",
     "collapsed": false,
     "input": [
      "# Build encoding dictionary from root node & save in oFile\n",
      "fstr = \"\"\n",
      "v, root = h[0]\n",
      "d = root.encode()\n",
      "for e in d:\n",
      "    fstr += e + \":\" + d[e] + \",\"\n",
      "fstr = fstr.strip(\",\")\n",
      "oFile.write(fstr)"
     ],
     "language": "python",
     "metadata": {},
     "outputs": [],
     "prompt_number": 385
    },
    {
     "cell_type": "code",
     "collapsed": false,
     "input": [
      "# Close all files\n",
      "dFile.close()\n",
      "aFile.close()\n",
      "oFile.close()"
     ],
     "language": "python",
     "metadata": {},
     "outputs": [],
     "prompt_number": 386
    }
   ],
   "metadata": {}
  }
 ]
}