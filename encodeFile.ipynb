{
 "metadata": {
  "name": "",
  "signature": "sha256:a2ddd32d5063f6f81849a00affdbb5f9e5abb6f5227d37a9fc0ede6aa2ce7588"
 },
 "nbformat": 3,
 "nbformat_minor": 0,
 "worksheets": [
  {
   "cells": [
    {
     "cell_type": "code",
     "collapsed": false,
     "input": [
      "# Temporary, will have as cmd args later!\n",
      "eFile = \"coldplay.encoding\"\n",
      "iFile = \"coldplay.lyrics\"\n",
      "oFile = \"coldplay.compressed\""
     ],
     "language": "python",
     "metadata": {},
     "outputs": []
    }
   ],
   "metadata": {}
  }
 ]
}