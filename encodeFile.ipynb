{
 "metadata": {
  "name": "",
  "signature": "sha256:1a9d8177688d012759ffd340845b25ff4c963f68379470c0fc383bd25a74a6de"
 },
 "nbformat": 3,
 "nbformat_minor": 0,
 "worksheets": [
  {
   "cells": [
    {
     "cell_type": "code",
     "collapsed": false,
     "input": [
      "from optparse import OptionParser\n",
      "\n",
      "# Read cmdln args\n",
      "parser = OptionParser()\n",
      "parser.add_option(\"-o\", \"--out\", dest=\"oFileName\", help=\"Name of output file\")\n",
      "parser.add_option(\"-e\", \"--encoding\", dest=\"eFileName\", help=\"Name of encoding file\")\n",
      "parser.add_option(\"-i\", \"--input\", dest=\"iFileName\", help=\"Name of input file\")\n",
      "\n",
      "(options, args) = parser.parse_args()"
     ],
     "language": "python",
     "metadata": {},
     "outputs": []
    },
    {
     "cell_type": "code",
     "collapsed": false,
     "input": [
      "eFileName = options.eFileName\n",
      "iFileName = options.iFileName\n",
      "oFileName = options.oFileName"
     ],
     "language": "python",
     "metadata": {},
     "outputs": [],
     "prompt_number": 67
    },
    {
     "cell_type": "code",
     "collapsed": false,
     "input": [
      "# Open Files\n",
      "eFile = open(eFileName, 'r')\n",
      "iFile = open(iFileName, 'r')\n",
      "oFile = open(oFileName, 'wb')"
     ],
     "language": "python",
     "metadata": {},
     "outputs": [],
     "prompt_number": 68
    },
    {
     "cell_type": "code",
     "collapsed": false,
     "input": [
      "# Reconstruct encoding from file\n",
      "d = {}\n",
      "for s in eFile.read().split(\",\"):\n",
      "    e = s.split(\":\")\n",
      "    d[e[0]] = e[1]"
     ],
     "language": "python",
     "metadata": {},
     "outputs": [],
     "prompt_number": 69
    },
    {
     "cell_type": "code",
     "collapsed": false,
     "input": [
      "# Encoding (unique prefixes, no need for csv)\n",
      "fstr = \"\"\n",
      "for s in iFile.read().split(\",\"):\n",
      "    fstr += d[s]\n",
      "oFile.write(fstr)"
     ],
     "language": "python",
     "metadata": {},
     "outputs": [],
     "prompt_number": 70
    },
    {
     "cell_type": "code",
     "collapsed": false,
     "input": [
      "eFile.close()\n",
      "iFile.close()\n",
      "oFile.close()"
     ],
     "language": "python",
     "metadata": {},
     "outputs": [],
     "prompt_number": 71
    }
   ],
   "metadata": {}
  }
 ]
}