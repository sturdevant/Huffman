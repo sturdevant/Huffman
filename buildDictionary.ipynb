{
 "metadata": {
  "name": "",
  "signature": "sha256:b17bcab78884c1558ade36a08f31049956d751b8dfee71c637400eb7d9c97ae8"
 },
 "nbformat": 3,
 "nbformat_minor": 0,
 "worksheets": [
  {
   "cells": [
    {
     "cell_type": "code",
     "collapsed": false,
     "input": [
      "import glob\n",
      "from optparse import OptionParser\n",
      "\n",
      "# Read cmdln args\n",
      "parser = OptionParser()\n",
      "parser.add_option(\"-o\", \"--out\", dest=\"outFileName\", help=\"Name of output file\")\n",
      "(options, args) = parser.parse_args()"
     ],
     "language": "python",
     "metadata": {},
     "outputs": [],
     "prompt_number": 98
    },
    {
     "cell_type": "code",
     "collapsed": false,
     "input": [
      "outFileName = options.outFileName"
     ],
     "language": "python",
     "metadata": {},
     "outputs": [],
     "prompt_number": 99
    },
    {
     "cell_type": "code",
     "collapsed": false,
     "input": [
      "# Using set to avoid multiple entries of same word\n",
      "s = frozenset()\n",
      "for fileName in glob.glob(\"*.lyrics\"):\n",
      "    f = open(fileName, 'r')\n",
      "    s = s.union(f.read().split(\",\"))\n",
      "    f.close()"
     ],
     "language": "python",
     "metadata": {},
     "outputs": [],
     "prompt_number": 100
    },
    {
     "cell_type": "code",
     "collapsed": false,
     "input": [
      "# Write set to file, in csv format\n",
      "fstr = \"\"\n",
      "for e in s:\n",
      "    fstr += e + \",\"\n",
      "fstr = fstr.strip(\",\")\n",
      "f = open(outFileName, 'wb')\n",
      "f.write(fstr)\n",
      "f.close()"
     ],
     "language": "python",
     "metadata": {},
     "outputs": [],
     "prompt_number": 101
    },
    {
     "cell_type": "code",
     "collapsed": false,
     "input": [],
     "language": "python",
     "metadata": {},
     "outputs": []
    }
   ],
   "metadata": {}
  }
 ]
}