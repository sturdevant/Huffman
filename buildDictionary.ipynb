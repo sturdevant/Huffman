{
 "metadata": {
  "name": "",
  "signature": "sha256:748699e7ade13cfc09d64d2626d152679b6a7c9ae9841a1e300fc91618ce04d8"
 },
 "nbformat": 3,
 "nbformat_minor": 0,
 "worksheets": [
  {
   "cells": [
    {
     "cell_type": "code",
     "collapsed": false,
     "input": [
      "import glob"
     ],
     "language": "python",
     "metadata": {},
     "outputs": [],
     "prompt_number": 81
    },
    {
     "cell_type": "code",
     "collapsed": false,
     "input": [
      "# To be replaced w/ command line args later!\n",
      "outFileName = \"dictionary.txt\""
     ],
     "language": "python",
     "metadata": {},
     "outputs": [],
     "prompt_number": 90
    },
    {
     "cell_type": "code",
     "collapsed": false,
     "input": [
      "# Using set to avoid multiple entries of same word\n",
      "s = frozenset()\n",
      "for fileName in glob.glob(\"*.lyrics\"):\n",
      "    f = open(fileName, 'r')\n",
      "    s = s.union(f.read().split(\",\"))\n",
      "    f.close()"
     ],
     "language": "python",
     "metadata": {},
     "outputs": [],
     "prompt_number": 91
    },
    {
     "cell_type": "code",
     "collapsed": false,
     "input": [
      "# write set to file, in csv format\n",
      "fstr = \"\"\n",
      "for e in s:\n",
      "    fstr += e + \",\"\n",
      "fstr = fstr.strip(\",\")\n",
      "f = open(outFileName, 'wb')\n",
      "f.write(fstr)\n",
      "f.close()"
     ],
     "language": "python",
     "metadata": {},
     "outputs": [],
     "prompt_number": 93
    }
   ],
   "metadata": {}
  }
 ]
}